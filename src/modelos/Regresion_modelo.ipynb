{
 "cells": [
  {
   "metadata": {},
   "cell_type": "markdown",
   "source": "# Regresión Lineal",
   "id": "3ba1a5314afbf49f"
  },
  {
   "cell_type": "code",
   "id": "initial_id",
   "metadata": {
    "collapsed": true,
    "ExecuteTime": {
     "end_time": "2025-08-20T17:46:41.308994Z",
     "start_time": "2025-08-20T17:46:39.239971Z"
    }
   },
   "source": [
    "from sklearn.linear_model import LinearRegression\n",
    "from sklearn.metrics import mean_squared_error\n",
    "from sklearn.model_selection import train_test_split\n",
    "import pandas as pd\n",
    "from sklearn.model_selection import cross_val_score\n",
    "import numpy as np\n",
    "from sklearn.preprocessing import StandardScaler\n",
    "sys.path.append('C:/Users/Fabiola/Documents/CUC/BigData/Programacion II/Optimizacion-y-Prediccion-de-Demanda-del-Transporte-Publico/src/eda')\n",
    "import procesador_EDA\n",
    "from procesador_EDA import ProcesadorEDA\n",
    "sys.path.append('C:/Users/Fabiola/Documents/CUC/BigData/Programacion II/Optimizacion-y-Prediccion-de-Demanda-del-Transporte-Publico/src/datos')\n",
    "from GestorDatos import GestorDatos"
   ],
   "outputs": [
    {
     "ename": "NameError",
     "evalue": "name 'importlib' is not defined",
     "output_type": "error",
     "traceback": [
      "\u001B[31m---------------------------------------------------------------------------\u001B[39m",
      "\u001B[31mNameError\u001B[39m                                 Traceback (most recent call last)",
      "\u001B[36mCell\u001B[39m\u001B[36m \u001B[39m\u001B[32mIn[4]\u001B[39m\u001B[32m, line 10\u001B[39m\n\u001B[32m      8\u001B[39m sys.path.append(\u001B[33m'\u001B[39m\u001B[33mC:/Users/Fabiola/Documents/CUC/BigData/Programacion II/Optimizacion-y-Prediccion-de-Demanda-del-Transporte-Publico/src/eda\u001B[39m\u001B[33m'\u001B[39m)\n\u001B[32m      9\u001B[39m \u001B[38;5;28;01mimport\u001B[39;00m\u001B[38;5;250m \u001B[39m\u001B[34;01mprocesador_EDA\u001B[39;00m\n\u001B[32m---> \u001B[39m\u001B[32m10\u001B[39m \u001B[43mimportlib\u001B[49m.reload(procesador_EDA)\n\u001B[32m     11\u001B[39m \u001B[38;5;28;01mfrom\u001B[39;00m\u001B[38;5;250m \u001B[39m\u001B[34;01mprocesador_EDA\u001B[39;00m\u001B[38;5;250m \u001B[39m\u001B[38;5;28;01mimport\u001B[39;00m ProcesadorEDA\n\u001B[32m     12\u001B[39m sys.path.append(\u001B[33m'\u001B[39m\u001B[33mC:/Users/Fabiola/Documents/CUC/BigData/Programacion II/Optimizacion-y-Prediccion-de-Demanda-del-Transporte-Publico/src/datos\u001B[39m\u001B[33m'\u001B[39m)\n",
      "\u001B[31mNameError\u001B[39m: name 'importlib' is not defined"
     ]
    }
   ],
   "execution_count": 4
  },
  {
   "metadata": {},
   "cell_type": "code",
   "outputs": [],
   "execution_count": null,
   "source": "",
   "id": "1717b96d2bd996f"
  }
 ],
 "metadata": {
  "kernelspec": {
   "display_name": "Python 3",
   "language": "python",
   "name": "python3"
  },
  "language_info": {
   "codemirror_mode": {
    "name": "ipython",
    "version": 2
   },
   "file_extension": ".py",
   "mimetype": "text/x-python",
   "name": "python",
   "nbconvert_exporter": "python",
   "pygments_lexer": "ipython2",
   "version": "2.7.6"
  }
 },
 "nbformat": 4,
 "nbformat_minor": 5
}

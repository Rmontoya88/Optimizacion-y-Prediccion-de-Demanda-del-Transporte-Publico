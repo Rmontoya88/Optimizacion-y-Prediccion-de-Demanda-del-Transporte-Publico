{
 "cells": [
  {
   "metadata": {},
   "cell_type": "markdown",
   "source": "# Importación de librerias",
   "id": "f4194d18fa8d211b"
  },
  {
   "cell_type": "code",
   "id": "initial_id",
   "metadata": {
    "collapsed": true,
    "ExecuteTime": {
     "end_time": "2025-08-16T19:49:41.209768Z",
     "start_time": "2025-08-16T19:49:41.201461Z"
    }
   },
   "source": [
    "import sys\n",
    "\n",
    "sys.path.append('../src/eda')\n",
    "import pandas as pd\n",
    "import importlib\n",
    "import procesador_EDA\n",
    "importlib.reload(procesador_EDA)\n",
    "from procesador_EDA import ProcesadorEDA"
   ],
   "outputs": [],
   "execution_count": 241
  },
  {
   "metadata": {
    "ExecuteTime": {
     "end_time": "2025-08-16T19:49:42.436570Z",
     "start_time": "2025-08-16T19:49:42.411537Z"
    }
   },
   "cell_type": "code",
   "source": [
    "ruta = \"D:/cuc/programacion 2/Proyecto Final/Optimizacion-y-Prediccion-de-Demanda-del-Transporte-Publico/data/raw/Tren_urbano_pasajeros.csv\"\n",
    "df = pd.read_csv(ruta, encoding='utf-8')\n",
    "\n",
    "procesador = ProcesadorEDA(df)\n"
   ],
   "id": "206477930b8b1cfa",
   "outputs": [],
   "execution_count": 242
  },
  {
   "metadata": {},
   "cell_type": "markdown",
   "source": "# Análisis Tren urbano",
   "id": "22c6c588968915fb"
  },
  {
   "metadata": {
    "ExecuteTime": {
     "end_time": "2025-08-16T19:51:23.595128Z",
     "start_time": "2025-08-16T19:51:23.586412Z"
    }
   },
   "cell_type": "code",
   "source": "procesador.mostrar_head()",
   "id": "4b7e90e534c95a56",
   "outputs": [
    {
     "data": {
      "text/plain": [
       "  Código de Ruta          Descripción de la ruta Código recorrido   \\\n",
       "0          RF005  ALAJUELA - HEREDIA Y VICEVERSA             T4471   \n",
       "1          RF005  ALAJUELA - HEREDIA Y VICEVERSA             T4471   \n",
       "2          RF005  ALAJUELA - HEREDIA Y VICEVERSA             T4471   \n",
       "3          RF005  ALAJUELA - HEREDIA Y VICEVERSA             T4471   \n",
       "4          RF005  ALAJUELA - HEREDIA Y VICEVERSA             T4471   \n",
       "\n",
       "        Descripción del recorrido           Sentido  Dia  Mes   Año  \\\n",
       "0  ALAJUELA - HEREDIA Y VICEVERSA  Destino – Origen   30    6  2025   \n",
       "1  ALAJUELA - HEREDIA Y VICEVERSA  Destino – Origen   27    6  2025   \n",
       "2  ALAJUELA - HEREDIA Y VICEVERSA  Destino – Origen   26    6  2025   \n",
       "3  ALAJUELA - HEREDIA Y VICEVERSA  Destino – Origen   25    6  2025   \n",
       "4  ALAJUELA - HEREDIA Y VICEVERSA  Destino – Origen   24    6  2025   \n",
       "\n",
       "   Cantidad de Pasajeros Regulares  Cantidad de Adultos Mayores  Ingresos  \n",
       "0                            371.0                          NaN  296800.0  \n",
       "1                            415.0                          NaN  332000.0  \n",
       "2                            399.0                          NaN  319200.0  \n",
       "3                            392.0                          NaN  313600.0  \n",
       "4                            403.0                          NaN  322400.0  "
      ],
      "text/html": [
       "<div>\n",
       "<style scoped>\n",
       "    .dataframe tbody tr th:only-of-type {\n",
       "        vertical-align: middle;\n",
       "    }\n",
       "\n",
       "    .dataframe tbody tr th {\n",
       "        vertical-align: top;\n",
       "    }\n",
       "\n",
       "    .dataframe thead th {\n",
       "        text-align: right;\n",
       "    }\n",
       "</style>\n",
       "<table border=\"1\" class=\"dataframe\">\n",
       "  <thead>\n",
       "    <tr style=\"text-align: right;\">\n",
       "      <th></th>\n",
       "      <th>Código de Ruta</th>\n",
       "      <th>Descripción de la ruta</th>\n",
       "      <th>Código recorrido</th>\n",
       "      <th>Descripción del recorrido</th>\n",
       "      <th>Sentido</th>\n",
       "      <th>Dia</th>\n",
       "      <th>Mes</th>\n",
       "      <th>Año</th>\n",
       "      <th>Cantidad de Pasajeros Regulares</th>\n",
       "      <th>Cantidad de Adultos Mayores</th>\n",
       "      <th>Ingresos</th>\n",
       "    </tr>\n",
       "  </thead>\n",
       "  <tbody>\n",
       "    <tr>\n",
       "      <th>0</th>\n",
       "      <td>RF005</td>\n",
       "      <td>ALAJUELA - HEREDIA Y VICEVERSA</td>\n",
       "      <td>T4471</td>\n",
       "      <td>ALAJUELA - HEREDIA Y VICEVERSA</td>\n",
       "      <td>Destino – Origen</td>\n",
       "      <td>30</td>\n",
       "      <td>6</td>\n",
       "      <td>2025</td>\n",
       "      <td>371.0</td>\n",
       "      <td>NaN</td>\n",
       "      <td>296800.0</td>\n",
       "    </tr>\n",
       "    <tr>\n",
       "      <th>1</th>\n",
       "      <td>RF005</td>\n",
       "      <td>ALAJUELA - HEREDIA Y VICEVERSA</td>\n",
       "      <td>T4471</td>\n",
       "      <td>ALAJUELA - HEREDIA Y VICEVERSA</td>\n",
       "      <td>Destino – Origen</td>\n",
       "      <td>27</td>\n",
       "      <td>6</td>\n",
       "      <td>2025</td>\n",
       "      <td>415.0</td>\n",
       "      <td>NaN</td>\n",
       "      <td>332000.0</td>\n",
       "    </tr>\n",
       "    <tr>\n",
       "      <th>2</th>\n",
       "      <td>RF005</td>\n",
       "      <td>ALAJUELA - HEREDIA Y VICEVERSA</td>\n",
       "      <td>T4471</td>\n",
       "      <td>ALAJUELA - HEREDIA Y VICEVERSA</td>\n",
       "      <td>Destino – Origen</td>\n",
       "      <td>26</td>\n",
       "      <td>6</td>\n",
       "      <td>2025</td>\n",
       "      <td>399.0</td>\n",
       "      <td>NaN</td>\n",
       "      <td>319200.0</td>\n",
       "    </tr>\n",
       "    <tr>\n",
       "      <th>3</th>\n",
       "      <td>RF005</td>\n",
       "      <td>ALAJUELA - HEREDIA Y VICEVERSA</td>\n",
       "      <td>T4471</td>\n",
       "      <td>ALAJUELA - HEREDIA Y VICEVERSA</td>\n",
       "      <td>Destino – Origen</td>\n",
       "      <td>25</td>\n",
       "      <td>6</td>\n",
       "      <td>2025</td>\n",
       "      <td>392.0</td>\n",
       "      <td>NaN</td>\n",
       "      <td>313600.0</td>\n",
       "    </tr>\n",
       "    <tr>\n",
       "      <th>4</th>\n",
       "      <td>RF005</td>\n",
       "      <td>ALAJUELA - HEREDIA Y VICEVERSA</td>\n",
       "      <td>T4471</td>\n",
       "      <td>ALAJUELA - HEREDIA Y VICEVERSA</td>\n",
       "      <td>Destino – Origen</td>\n",
       "      <td>24</td>\n",
       "      <td>6</td>\n",
       "      <td>2025</td>\n",
       "      <td>403.0</td>\n",
       "      <td>NaN</td>\n",
       "      <td>322400.0</td>\n",
       "    </tr>\n",
       "  </tbody>\n",
       "</table>\n",
       "</div>"
      ]
     },
     "execution_count": 245,
     "metadata": {},
     "output_type": "execute_result"
    }
   ],
   "execution_count": 245
  },
  {
   "metadata": {
    "ExecuteTime": {
     "end_time": "2025-08-16T19:51:25.179331Z",
     "start_time": "2025-08-16T19:51:25.171596Z"
    }
   },
   "cell_type": "code",
   "source": "procesador.mostrar_tail()",
   "id": "fd618ceadc68d6ab",
   "outputs": [
    {
     "data": {
      "text/plain": [
       "      Código de Ruta                        Descripción de la ruta  \\\n",
       "17827          RF001  ESTACION DEL PACIFICO - SAN ANTONIO DE BELEN   \n",
       "17828          RF001  ESTACION DEL PACIFICO - SAN ANTONIO DE BELEN   \n",
       "17829          RF001  ESTACION DEL PACIFICO - SAN ANTONIO DE BELEN   \n",
       "17830          RF001  ESTACION DEL PACIFICO - SAN ANTONIO DE BELEN   \n",
       "17831          RF001  ESTACION DEL PACIFICO - SAN ANTONIO DE BELEN   \n",
       "\n",
       "      Código recorrido                      Descripción del recorrido  \\\n",
       "17827             T4464  ESTACION DEL PACIFICO - SAN ANTONIO DE BELEN   \n",
       "17828             T4464  ESTACION DEL PACIFICO - SAN ANTONIO DE BELEN   \n",
       "17829             T4464  ESTACION DEL PACIFICO - SAN ANTONIO DE BELEN   \n",
       "17830             T4464  ESTACION DEL PACIFICO - SAN ANTONIO DE BELEN   \n",
       "17831             T4464  ESTACION DEL PACIFICO - SAN ANTONIO DE BELEN   \n",
       "\n",
       "                Sentido  Dia  Mes   Año  Cantidad de Pasajeros Regulares  \\\n",
       "17827  Origen – Destino   22    1  2021                            188.0   \n",
       "17828  Origen – Destino   21    1  2021                            182.0   \n",
       "17829  Origen – Destino   20    1  2021                            138.0   \n",
       "17830  Origen – Destino   19    1  2021                            140.0   \n",
       "17831  Origen – Destino   18    1  2021                            149.0   \n",
       "\n",
       "       Cantidad de Adultos Mayores   Ingresos  \n",
       "17827                          5.0  6204000.0  \n",
       "17828                          8.0  6006000.0  \n",
       "17829                         27.0  4554000.0  \n",
       "17830                          7.0  4620000.0  \n",
       "17831                          9.0  4917000.0  "
      ],
      "text/html": [
       "<div>\n",
       "<style scoped>\n",
       "    .dataframe tbody tr th:only-of-type {\n",
       "        vertical-align: middle;\n",
       "    }\n",
       "\n",
       "    .dataframe tbody tr th {\n",
       "        vertical-align: top;\n",
       "    }\n",
       "\n",
       "    .dataframe thead th {\n",
       "        text-align: right;\n",
       "    }\n",
       "</style>\n",
       "<table border=\"1\" class=\"dataframe\">\n",
       "  <thead>\n",
       "    <tr style=\"text-align: right;\">\n",
       "      <th></th>\n",
       "      <th>Código de Ruta</th>\n",
       "      <th>Descripción de la ruta</th>\n",
       "      <th>Código recorrido</th>\n",
       "      <th>Descripción del recorrido</th>\n",
       "      <th>Sentido</th>\n",
       "      <th>Dia</th>\n",
       "      <th>Mes</th>\n",
       "      <th>Año</th>\n",
       "      <th>Cantidad de Pasajeros Regulares</th>\n",
       "      <th>Cantidad de Adultos Mayores</th>\n",
       "      <th>Ingresos</th>\n",
       "    </tr>\n",
       "  </thead>\n",
       "  <tbody>\n",
       "    <tr>\n",
       "      <th>17827</th>\n",
       "      <td>RF001</td>\n",
       "      <td>ESTACION DEL PACIFICO - SAN ANTONIO DE BELEN</td>\n",
       "      <td>T4464</td>\n",
       "      <td>ESTACION DEL PACIFICO - SAN ANTONIO DE BELEN</td>\n",
       "      <td>Origen – Destino</td>\n",
       "      <td>22</td>\n",
       "      <td>1</td>\n",
       "      <td>2021</td>\n",
       "      <td>188.0</td>\n",
       "      <td>5.0</td>\n",
       "      <td>6204000.0</td>\n",
       "    </tr>\n",
       "    <tr>\n",
       "      <th>17828</th>\n",
       "      <td>RF001</td>\n",
       "      <td>ESTACION DEL PACIFICO - SAN ANTONIO DE BELEN</td>\n",
       "      <td>T4464</td>\n",
       "      <td>ESTACION DEL PACIFICO - SAN ANTONIO DE BELEN</td>\n",
       "      <td>Origen – Destino</td>\n",
       "      <td>21</td>\n",
       "      <td>1</td>\n",
       "      <td>2021</td>\n",
       "      <td>182.0</td>\n",
       "      <td>8.0</td>\n",
       "      <td>6006000.0</td>\n",
       "    </tr>\n",
       "    <tr>\n",
       "      <th>17829</th>\n",
       "      <td>RF001</td>\n",
       "      <td>ESTACION DEL PACIFICO - SAN ANTONIO DE BELEN</td>\n",
       "      <td>T4464</td>\n",
       "      <td>ESTACION DEL PACIFICO - SAN ANTONIO DE BELEN</td>\n",
       "      <td>Origen – Destino</td>\n",
       "      <td>20</td>\n",
       "      <td>1</td>\n",
       "      <td>2021</td>\n",
       "      <td>138.0</td>\n",
       "      <td>27.0</td>\n",
       "      <td>4554000.0</td>\n",
       "    </tr>\n",
       "    <tr>\n",
       "      <th>17830</th>\n",
       "      <td>RF001</td>\n",
       "      <td>ESTACION DEL PACIFICO - SAN ANTONIO DE BELEN</td>\n",
       "      <td>T4464</td>\n",
       "      <td>ESTACION DEL PACIFICO - SAN ANTONIO DE BELEN</td>\n",
       "      <td>Origen – Destino</td>\n",
       "      <td>19</td>\n",
       "      <td>1</td>\n",
       "      <td>2021</td>\n",
       "      <td>140.0</td>\n",
       "      <td>7.0</td>\n",
       "      <td>4620000.0</td>\n",
       "    </tr>\n",
       "    <tr>\n",
       "      <th>17831</th>\n",
       "      <td>RF001</td>\n",
       "      <td>ESTACION DEL PACIFICO - SAN ANTONIO DE BELEN</td>\n",
       "      <td>T4464</td>\n",
       "      <td>ESTACION DEL PACIFICO - SAN ANTONIO DE BELEN</td>\n",
       "      <td>Origen – Destino</td>\n",
       "      <td>18</td>\n",
       "      <td>1</td>\n",
       "      <td>2021</td>\n",
       "      <td>149.0</td>\n",
       "      <td>9.0</td>\n",
       "      <td>4917000.0</td>\n",
       "    </tr>\n",
       "  </tbody>\n",
       "</table>\n",
       "</div>"
      ]
     },
     "execution_count": 246,
     "metadata": {},
     "output_type": "execute_result"
    }
   ],
   "execution_count": 246
  },
  {
   "metadata": {
    "ExecuteTime": {
     "end_time": "2025-08-16T19:51:26.815514Z",
     "start_time": "2025-08-16T19:51:26.801593Z"
    }
   },
   "cell_type": "code",
   "source": "procesador.mostrar_info()",
   "id": "1afda7f018665451",
   "outputs": [
    {
     "name": "stdout",
     "output_type": "stream",
     "text": [
      "<class 'pandas.core.frame.DataFrame'>\n",
      "RangeIndex: 17832 entries, 0 to 17831\n",
      "Data columns (total 11 columns):\n",
      " #   Column                           Non-Null Count  Dtype  \n",
      "---  ------                           --------------  -----  \n",
      " 0   Código de Ruta                   17832 non-null  object \n",
      " 1   Descripción de la ruta           17832 non-null  object \n",
      " 2   Código recorrido                 17832 non-null  object \n",
      " 3   Descripción del recorrido        17832 non-null  object \n",
      " 4   Sentido                          17832 non-null  object \n",
      " 5   Dia                              17832 non-null  int64  \n",
      " 6   Mes                              17832 non-null  int64  \n",
      " 7   Año                              17832 non-null  int64  \n",
      " 8   Cantidad de Pasajeros Regulares  16790 non-null  float64\n",
      " 9   Cantidad de Adultos Mayores      3876 non-null   float64\n",
      " 10  Ingresos                         16789 non-null  float64\n",
      "dtypes: float64(3), int64(3), object(5)\n",
      "memory usage: 1.5+ MB\n"
     ]
    }
   ],
   "execution_count": 247
  },
  {
   "metadata": {
    "ExecuteTime": {
     "end_time": "2025-08-16T19:59:52.625900Z",
     "start_time": "2025-08-16T19:59:52.623116Z"
    }
   },
   "cell_type": "code",
   "source": "procesador.mostrar_dimensiones()",
   "id": "17df41207af78093",
   "outputs": [
    {
     "data": {
      "text/plain": [
       "(270, 11)"
      ]
     },
     "execution_count": 288,
     "metadata": {},
     "output_type": "execute_result"
    }
   ],
   "execution_count": 288
  },
  {
   "metadata": {
    "ExecuteTime": {
     "end_time": "2025-08-16T19:59:54.643479Z",
     "start_time": "2025-08-16T19:59:54.633163Z"
    }
   },
   "cell_type": "code",
   "source": "procesador.analizar_nulos()",
   "id": "c994e507e5e97c8d",
   "outputs": [
    {
     "name": "stdout",
     "output_type": "stream",
     "text": [
      "\n",
      "==================================================\n",
      "ANÁLISIS DE VALORES NULOS Y VACÍOS\n",
      "==================================================\n",
      "\n",
      "Valores nulos por columna:\n",
      "--------------------------------------------------\n",
      "Codigo de Ruta                0\n",
      "Descripcion de Ruta           0\n",
      "Mes                           0\n",
      "Año                           0\n",
      "Tipo de Equipo                0\n",
      "Cantidad de viajes            0\n",
      "Cantidad de Locomotoras       0\n",
      "Cantidad de Vagones           0\n",
      "Uso mensual (h)               0\n",
      "Distancia recorrida (km)      0\n",
      "Consumo de combustible (L)    0\n",
      "dtype: int64\n",
      "\n",
      "\n",
      "Porcentaje de valores nulos por columna:\n",
      "--------------------------------------------------\n",
      "Codigo de Ruta                0.0\n",
      "Descripcion de Ruta           0.0\n",
      "Mes                           0.0\n",
      "Año                           0.0\n",
      "Tipo de Equipo                0.0\n",
      "Cantidad de viajes            0.0\n",
      "Cantidad de Locomotoras       0.0\n",
      "Cantidad de Vagones           0.0\n",
      "Uso mensual (h)               0.0\n",
      "Distancia recorrida (km)      0.0\n",
      "Consumo de combustible (L)    0.0\n",
      "dtype: float64\n",
      "\n",
      "==================================================\n"
     ]
    }
   ],
   "execution_count": 289
  },
  {
   "metadata": {
    "ExecuteTime": {
     "end_time": "2025-08-16T19:59:56.785668Z",
     "start_time": "2025-08-16T19:59:56.777625Z"
    }
   },
   "cell_type": "code",
   "source": [
    "#Tratar valores nulos\n",
    "procesador.rellenar_nulos()\n",
    "procesador.analizar_nulos()"
   ],
   "id": "d79f06f190a95737",
   "outputs": [
    {
     "name": "stdout",
     "output_type": "stream",
     "text": [
      "\n",
      "==================================================\n",
      "ANÁLISIS DE VALORES NULOS Y VACÍOS\n",
      "==================================================\n",
      "\n",
      "Valores nulos por columna:\n",
      "--------------------------------------------------\n",
      "Codigo de Ruta                0\n",
      "Descripcion de Ruta           0\n",
      "Mes                           0\n",
      "Año                           0\n",
      "Tipo de Equipo                0\n",
      "Cantidad de viajes            0\n",
      "Cantidad de Locomotoras       0\n",
      "Cantidad de Vagones           0\n",
      "Uso mensual (h)               0\n",
      "Distancia recorrida (km)      0\n",
      "Consumo de combustible (L)    0\n",
      "dtype: int64\n",
      "\n",
      "\n",
      "Porcentaje de valores nulos por columna:\n",
      "--------------------------------------------------\n",
      "Codigo de Ruta                0.0\n",
      "Descripcion de Ruta           0.0\n",
      "Mes                           0.0\n",
      "Año                           0.0\n",
      "Tipo de Equipo                0.0\n",
      "Cantidad de viajes            0.0\n",
      "Cantidad de Locomotoras       0.0\n",
      "Cantidad de Vagones           0.0\n",
      "Uso mensual (h)               0.0\n",
      "Distancia recorrida (km)      0.0\n",
      "Consumo de combustible (L)    0.0\n",
      "dtype: float64\n",
      "\n",
      "==================================================\n"
     ]
    }
   ],
   "execution_count": 290
  },
  {
   "metadata": {
    "ExecuteTime": {
     "end_time": "2025-08-16T19:59:58.933184Z",
     "start_time": "2025-08-16T19:59:58.923233Z"
    }
   },
   "cell_type": "code",
   "source": [
    "#Revisar valores unicos por columna\n",
    "for col in df.columns:\n",
    "    print(\"=\" * 50)\n",
    "    print(f\"\\nColumna: {col}\\n\")\n",
    "    #print(\"-\" * 50)\n",
    "    print(df[col].unique())\n",
    "    print(\"\\n\")"
   ],
   "id": "bb7692949fafabd9",
   "outputs": [
    {
     "name": "stdout",
     "output_type": "stream",
     "text": [
      "==================================================\n",
      "\n",
      "Columna: Código de Ruta\n",
      "\n",
      "['RF005' 'RF004' 'RF003' 'RF002' 'RF001']\n",
      "\n",
      "\n",
      "==================================================\n",
      "\n",
      "Columna: Descripción de la ruta\n",
      "\n",
      "['ALAJUELA - HEREDIA Y VICEVERSA' 'ESTACION DEL ATLANTICO - CARTAGO'\n",
      " 'UNIVERSIDAD LATINA - HEREDIA'\n",
      " 'INDOOR CLUB - UNIVERSIDAD LATINA - METROPOLI III'\n",
      " 'ESTACION DEL PACIFICO - SAN ANTONIO DE BELEN']\n",
      "\n",
      "\n",
      "==================================================\n",
      "\n",
      "Columna: Código recorrido \n",
      "\n",
      "['T4471' 'T4470' 'T4469' 'T4468' 'T4467' 'T4466' 'T4465' 'T4464']\n",
      "\n",
      "\n",
      "==================================================\n",
      "\n",
      "Columna: Descripción del recorrido\n",
      "\n",
      "['ALAJUELA - HEREDIA Y VICEVERSA' 'ESTACION DEL ATLANTICO - CARTAGO'\n",
      " 'ESTACION DEL ATLANTICO – HEREDIA' 'UNIVERSIDAD LATINA - HEREDIA'\n",
      " 'ESTACION DEL PACIFICO – METROPOLI III'\n",
      " 'INDOOR CLUB – UNIVERSIDAD LATINA  - ESTACION DEL PACIFICO'\n",
      " 'INDOOR CLUB - UNIVERSIDAD LATINA - METROPOLI III'\n",
      " 'ESTACION DEL PACIFICO - SAN ANTONIO DE BELEN']\n",
      "\n",
      "\n",
      "==================================================\n",
      "\n",
      "Columna: Sentido\n",
      "\n",
      "['Destino – Origen' 'Origen – Destino']\n",
      "\n",
      "\n",
      "==================================================\n",
      "\n",
      "Columna: Dia\n",
      "\n",
      "[30 27 26 25 24 23 20 19 18 17 16 13 12 11 10  9  6  5  4  3  2 29 28 22\n",
      " 21 15 14  8  7  1 31]\n",
      "\n",
      "\n",
      "==================================================\n",
      "\n",
      "Columna: Mes\n",
      "\n",
      "[ 6  5  1  4  3  2 12 11 10  9  8  7]\n",
      "\n",
      "\n",
      "==================================================\n",
      "\n",
      "Columna: Año\n",
      "\n",
      "[2025 2024 2023 2022 2021]\n",
      "\n",
      "\n",
      "==================================================\n",
      "\n",
      "Columna: Cantidad de Pasajeros Regulares\n",
      "\n",
      "[ 371.  415.  399. ... 1179. 1135. 1089.]\n",
      "\n",
      "\n",
      "==================================================\n",
      "\n",
      "Columna: Cantidad de Adultos Mayores\n",
      "\n",
      "[ nan  15.  17.  14.  10.  18.  23.  16.  31.  21.  25.  12. 166. 159.\n",
      " 134. 105. 170. 186. 180. 317. 165. 315. 203. 154. 318. 201. 305. 112.\n",
      " 246. 110. 157. 133. 130. 142. 184. 158. 146. 144. 177. 235.  96.  97.\n",
      " 103.  95. 149. 123. 120. 194. 145. 135. 238. 143.  11.   9.   6.   4.\n",
      "   3.   7.   5.   8.  20. 155. 321. 181. 188. 240. 148. 182. 393. 210.\n",
      "  83.  99. 169. 187.  53. 205. 195. 218. 192. 202. 153. 217. 224. 174.\n",
      "  89. 178. 127. 227. 206. 173.   1.   2.  26. 185. 179. 211. 252. 221.\n",
      " 199. 287. 233. 209. 126. 160. 220.  55.  86.  71.  69. 114. 141. 122.\n",
      " 164. 129. 167.  78. 100.  70. 109.  64.  43.  29.  19.  41.  72.  60.\n",
      "  51.  44.  13. 197. 151.  73.  79. 163. 207. 208. 215. 278. 223. 175.\n",
      " 128. 132.  54.  77. 226. 189. 267. 106. 219. 242. 216. 243. 251. 269.\n",
      " 231.  59. 147. 193. 121. 172.  30.  27. 263. 245. 236. 254. 228. 168.\n",
      "  98. 183. 116. 108. 139. 162. 124.  28. 256. 260. 138.  75.  74.  39.\n",
      "  45. 137. 117. 152. 200. 150. 232.  58.  87.  48.  62.  68.  36.  66.\n",
      "  61. 115.  76. 119.  52.  67.  38.  47.  22. 118.  40.  85.  32. 239.\n",
      " 131. 214. 171.  33. 196. 125. 176.  92.  93. 259. 438. 222. 156. 161.\n",
      "  84. 229. 248. 111. 198. 104.  24. 140.  94. 191. 212. 102. 230. 204.\n",
      " 213.  80. 225. 250. 284.  88.  81.  56.  46.  42.  49.  50. 268.  82.\n",
      "  35.  34.  63. 264.  65. 234. 101.  37. 241.  91. 237. 257. 255. 528.\n",
      "  90. 282. 275. 280. 294. 293. 270. 190.  57. 136. 320. 107. 113. 300.\n",
      " 286.]\n",
      "\n",
      "\n",
      "==================================================\n",
      "\n",
      "Columna: Ingresos\n",
      "\n",
      "[ 296800.  332000.  319200. ... 4554000. 4620000. 4917000.]\n",
      "\n",
      "\n"
     ]
    }
   ],
   "execution_count": 291
  },
  {
   "metadata": {
    "ExecuteTime": {
     "end_time": "2025-08-16T20:00:00.754187Z",
     "start_time": "2025-08-16T20:00:00.745214Z"
    }
   },
   "cell_type": "code",
   "source": "df.head()",
   "id": "41a84d1ec12a490c",
   "outputs": [
    {
     "data": {
      "text/plain": [
       "  Código de Ruta          Descripción de la ruta Código recorrido   \\\n",
       "0          RF005  ALAJUELA - HEREDIA Y VICEVERSA             T4471   \n",
       "1          RF005  ALAJUELA - HEREDIA Y VICEVERSA             T4471   \n",
       "2          RF005  ALAJUELA - HEREDIA Y VICEVERSA             T4471   \n",
       "3          RF005  ALAJUELA - HEREDIA Y VICEVERSA             T4471   \n",
       "4          RF005  ALAJUELA - HEREDIA Y VICEVERSA             T4471   \n",
       "\n",
       "        Descripción del recorrido           Sentido  Dia  Mes   Año  \\\n",
       "0  ALAJUELA - HEREDIA Y VICEVERSA  Destino – Origen   30    6  2025   \n",
       "1  ALAJUELA - HEREDIA Y VICEVERSA  Destino – Origen   27    6  2025   \n",
       "2  ALAJUELA - HEREDIA Y VICEVERSA  Destino – Origen   26    6  2025   \n",
       "3  ALAJUELA - HEREDIA Y VICEVERSA  Destino – Origen   25    6  2025   \n",
       "4  ALAJUELA - HEREDIA Y VICEVERSA  Destino – Origen   24    6  2025   \n",
       "\n",
       "   Cantidad de Pasajeros Regulares  Cantidad de Adultos Mayores  Ingresos  \n",
       "0                            371.0                          NaN  296800.0  \n",
       "1                            415.0                          NaN  332000.0  \n",
       "2                            399.0                          NaN  319200.0  \n",
       "3                            392.0                          NaN  313600.0  \n",
       "4                            403.0                          NaN  322400.0  "
      ],
      "text/html": [
       "<div>\n",
       "<style scoped>\n",
       "    .dataframe tbody tr th:only-of-type {\n",
       "        vertical-align: middle;\n",
       "    }\n",
       "\n",
       "    .dataframe tbody tr th {\n",
       "        vertical-align: top;\n",
       "    }\n",
       "\n",
       "    .dataframe thead th {\n",
       "        text-align: right;\n",
       "    }\n",
       "</style>\n",
       "<table border=\"1\" class=\"dataframe\">\n",
       "  <thead>\n",
       "    <tr style=\"text-align: right;\">\n",
       "      <th></th>\n",
       "      <th>Código de Ruta</th>\n",
       "      <th>Descripción de la ruta</th>\n",
       "      <th>Código recorrido</th>\n",
       "      <th>Descripción del recorrido</th>\n",
       "      <th>Sentido</th>\n",
       "      <th>Dia</th>\n",
       "      <th>Mes</th>\n",
       "      <th>Año</th>\n",
       "      <th>Cantidad de Pasajeros Regulares</th>\n",
       "      <th>Cantidad de Adultos Mayores</th>\n",
       "      <th>Ingresos</th>\n",
       "    </tr>\n",
       "  </thead>\n",
       "  <tbody>\n",
       "    <tr>\n",
       "      <th>0</th>\n",
       "      <td>RF005</td>\n",
       "      <td>ALAJUELA - HEREDIA Y VICEVERSA</td>\n",
       "      <td>T4471</td>\n",
       "      <td>ALAJUELA - HEREDIA Y VICEVERSA</td>\n",
       "      <td>Destino – Origen</td>\n",
       "      <td>30</td>\n",
       "      <td>6</td>\n",
       "      <td>2025</td>\n",
       "      <td>371.0</td>\n",
       "      <td>NaN</td>\n",
       "      <td>296800.0</td>\n",
       "    </tr>\n",
       "    <tr>\n",
       "      <th>1</th>\n",
       "      <td>RF005</td>\n",
       "      <td>ALAJUELA - HEREDIA Y VICEVERSA</td>\n",
       "      <td>T4471</td>\n",
       "      <td>ALAJUELA - HEREDIA Y VICEVERSA</td>\n",
       "      <td>Destino – Origen</td>\n",
       "      <td>27</td>\n",
       "      <td>6</td>\n",
       "      <td>2025</td>\n",
       "      <td>415.0</td>\n",
       "      <td>NaN</td>\n",
       "      <td>332000.0</td>\n",
       "    </tr>\n",
       "    <tr>\n",
       "      <th>2</th>\n",
       "      <td>RF005</td>\n",
       "      <td>ALAJUELA - HEREDIA Y VICEVERSA</td>\n",
       "      <td>T4471</td>\n",
       "      <td>ALAJUELA - HEREDIA Y VICEVERSA</td>\n",
       "      <td>Destino – Origen</td>\n",
       "      <td>26</td>\n",
       "      <td>6</td>\n",
       "      <td>2025</td>\n",
       "      <td>399.0</td>\n",
       "      <td>NaN</td>\n",
       "      <td>319200.0</td>\n",
       "    </tr>\n",
       "    <tr>\n",
       "      <th>3</th>\n",
       "      <td>RF005</td>\n",
       "      <td>ALAJUELA - HEREDIA Y VICEVERSA</td>\n",
       "      <td>T4471</td>\n",
       "      <td>ALAJUELA - HEREDIA Y VICEVERSA</td>\n",
       "      <td>Destino – Origen</td>\n",
       "      <td>25</td>\n",
       "      <td>6</td>\n",
       "      <td>2025</td>\n",
       "      <td>392.0</td>\n",
       "      <td>NaN</td>\n",
       "      <td>313600.0</td>\n",
       "    </tr>\n",
       "    <tr>\n",
       "      <th>4</th>\n",
       "      <td>RF005</td>\n",
       "      <td>ALAJUELA - HEREDIA Y VICEVERSA</td>\n",
       "      <td>T4471</td>\n",
       "      <td>ALAJUELA - HEREDIA Y VICEVERSA</td>\n",
       "      <td>Destino – Origen</td>\n",
       "      <td>24</td>\n",
       "      <td>6</td>\n",
       "      <td>2025</td>\n",
       "      <td>403.0</td>\n",
       "      <td>NaN</td>\n",
       "      <td>322400.0</td>\n",
       "    </tr>\n",
       "  </tbody>\n",
       "</table>\n",
       "</div>"
      ]
     },
     "execution_count": 292,
     "metadata": {},
     "output_type": "execute_result"
    }
   ],
   "execution_count": 292
  },
  {
   "metadata": {
    "ExecuteTime": {
     "end_time": "2025-08-16T20:00:10.106143Z",
     "start_time": "2025-08-16T20:00:10.093540Z"
    }
   },
   "cell_type": "code",
   "source": [
    "# Mes con mayores ingresos\n",
    "ingresos_por_mes = df.groupby('Mes')['Ingresos'].sum()\n",
    "mes_max = ingresos_por_mes.idxmax()\n",
    "ingreso_max = ingresos_por_mes.max()\n",
    "print(f\"Mes con mayores ingresos: {mes_max}\\nCon {ingreso_max:,.0f} colones\")"
   ],
   "id": "5df67c81b3d0c6cc",
   "outputs": [
    {
     "name": "stdout",
     "output_type": "stream",
     "text": [
      "Mes con mayores ingresos: 3\n",
      "Con 4,210,891,535 colones\n"
     ]
    }
   ],
   "execution_count": 294
  },
  {
   "metadata": {
    "ExecuteTime": {
     "end_time": "2025-08-16T20:00:16.750219Z",
     "start_time": "2025-08-16T20:00:16.743086Z"
    }
   },
   "cell_type": "code",
   "source": [
    "# Ruta con menos pasajeros en un mes\n",
    "pasajeros_ruta_mes = df.groupby(['Mes', 'Descripción de la ruta'])['Cantidad de Pasajeros Regulares'].sum()\n",
    "min_ruta, min_mes_ruta = pasajeros_ruta_mes.idxmin()\n",
    "min_pasajeros = pasajeros_ruta_mes.min()\n",
    "print(f\"Ruta con menos pasajeros en un mes: {min_mes_ruta}\\nEn el mes: {min_ruta}\\nCon {min_pasajeros:,.0f} pasajeros\")\n"
   ],
   "id": "40595e73d641758",
   "outputs": [
    {
     "name": "stdout",
     "output_type": "stream",
     "text": [
      "Ruta con menos pasajeros en un mes: ESTACION DEL PACIFICO - SAN ANTONIO DE BELEN\n",
      "En el mes: 12\n",
      "Con 26,502 pasajeros\n"
     ]
    }
   ],
   "execution_count": 295
  },
  {
   "metadata": {
    "ExecuteTime": {
     "end_time": "2025-08-16T20:00:19.666303Z",
     "start_time": "2025-08-16T20:00:19.657436Z"
    }
   },
   "cell_type": "code",
   "source": [
    "# Ruta con mayor ingreso de adultos mayores\n",
    "adultos_por_ruta = df.groupby('Descripción de la ruta')['Cantidad de Adultos Mayores'].sum()\n",
    "ruta_max = adultos_por_ruta.idxmax()\n",
    "cantidad_max = adultos_por_ruta.max()\n",
    "print(f\"Ruta con mayor cantidad de adultos mayores transportados: {ruta_max}\\nTotal adultos mayores: {cantidad_max:,.0f} \")\n"
   ],
   "id": "3497049c06637084",
   "outputs": [
    {
     "name": "stdout",
     "output_type": "stream",
     "text": [
      "Ruta con mayor cantidad de adultos mayores transportados: ESTACION DEL ATLANTICO - CARTAGO\n",
      "Total adultos mayores: 137,646 \n"
     ]
    }
   ],
   "execution_count": 296
  },
  {
   "metadata": {
    "ExecuteTime": {
     "end_time": "2025-08-16T20:00:22.130275Z",
     "start_time": "2025-08-16T20:00:22.123337Z"
    }
   },
   "cell_type": "code",
   "source": [
    "# Día con mayor ingreso\n",
    "ingreso_dia_max, dia_max = ingresos_por_dia.max(), ingresos_por_dia.idxmax()\n",
    "fila_max = df[df['Dia'] == dia_max].iloc[0]\n",
    "mes_max = fila_max['Mes']\n",
    "anio_max = fila_max['Año']\n",
    "print(f\"Día con mayor ingreso: {dia_max}\\nMes: {mes_max}\\nAño: {anio_max}\\nCon {ingreso_dia_max:,.0f} colones\")\n"
   ],
   "id": "62846e5434aa2044",
   "outputs": [
    {
     "name": "stdout",
     "output_type": "stream",
     "text": [
      "Día con mayor ingreso: 19\n",
      "Mes: 6\n",
      "Año: 2025\n",
      "Con 822,127,604 colones\n"
     ]
    }
   ],
   "execution_count": 297
  },
  {
   "metadata": {
    "ExecuteTime": {
     "end_time": "2025-08-16T20:00:23.653396Z",
     "start_time": "2025-08-16T20:00:23.648847Z"
    }
   },
   "cell_type": "code",
   "source": [
    "# Año con mayor ingreso\n",
    "ingresos_por_año = df.groupby('Año')['Ingresos'].sum()\n",
    "año_max = ingresos_por_año.idxmax()\n",
    "ingreso_año_max = ingresos_por_año.max()\n",
    "print(f\"Año con mayor ingreso: {año_max}\\nCon {ingreso_año_max:,.0f} ingresos\")"
   ],
   "id": "9ec61385361f7e8a",
   "outputs": [
    {
     "name": "stdout",
     "output_type": "stream",
     "text": [
      "Año con mayor ingreso: 2021\n",
      "Con 11,166,490,563 ingresos\n"
     ]
    }
   ],
   "execution_count": 298
  },
  {
   "metadata": {
    "ExecuteTime": {
     "end_time": "2025-08-16T20:00:25.066678Z",
     "start_time": "2025-08-16T20:00:25.053104Z"
    }
   },
   "cell_type": "code",
   "source": [
    "# Año con más adultos mayores transportados\n",
    "adultos_por_año = df.groupby('Año')['Cantidad de Adultos Mayores'].sum()\n",
    "año_adultos_max = adultos_por_año.idxmax()\n",
    "cantidad_adultos_max = adultos_por_año.max()\n",
    "print(f\"Año con más adultos mayores transportados: {año_adultos_max}\\nCon {cantidad_adultos_max:,.0f} adultos mayores\")"
   ],
   "id": "c1951a89f0e173ff",
   "outputs": [
    {
     "name": "stdout",
     "output_type": "stream",
     "text": [
      "Año con más adultos mayores transportados: 2024\n",
      "Con 75,290 adultos mayores\n"
     ]
    }
   ],
   "execution_count": 299
  },
  {
   "metadata": {},
   "cell_type": "markdown",
   "source": "# Análisis Locomotoras",
   "id": "eb7c25812e13ca90"
  },
  {
   "metadata": {},
   "cell_type": "markdown",
   "source": "## Cargar dataset Locomotoras",
   "id": "2846657eb2f534e6"
  },
  {
   "metadata": {
    "ExecuteTime": {
     "end_time": "2025-08-16T20:00:29.612184Z",
     "start_time": "2025-08-16T20:00:29.605130Z"
    }
   },
   "cell_type": "code",
   "source": [
    "ruta_locomotoras = \"D:/cuc/programacion 2/Proyecto Final/Optimizacion-y-Prediccion-de-Demanda-del-Transporte-Publico/data/raw/Datos_Abiertos_ARESEP_Estadísticas_rendimiento.csv\"\n",
    "df_locomotoras = pd.read_csv(ruta_locomotoras, encoding='utf-8')"
   ],
   "id": "997b4ad9751a9a4a",
   "outputs": [],
   "execution_count": 300
  },
  {
   "metadata": {
    "ExecuteTime": {
     "end_time": "2025-08-16T20:00:30.792300Z",
     "start_time": "2025-08-16T20:00:30.778942Z"
    }
   },
   "cell_type": "code",
   "source": "df_locomotoras.head()",
   "id": "3cc22c41d0761833",
   "outputs": [
    {
     "data": {
      "text/plain": [
       "  Codigo de Ruta             Descripcion de Ruta  Mes   Año Tipo de Equipo  \\\n",
       "0          RF005  ALAJUELA - HEREDIA Y VICEVERSA    6  2025      DMU APOLO   \n",
       "1          RF005  ALAJUELA - HEREDIA Y VICEVERSA    5  2025      DMU APOLO   \n",
       "2          RF005  ALAJUELA - HEREDIA Y VICEVERSA    4  2025      DMU APOLO   \n",
       "3          RF005  ALAJUELA - HEREDIA Y VICEVERSA    3  2025      DMU APOLO   \n",
       "4          RF005  ALAJUELA - HEREDIA Y VICEVERSA    2  2025      DMU APOLO   \n",
       "\n",
       "   Cantidad de viajes  Cantidad de Locomotoras  Cantidad de Vagones  \\\n",
       "0               206.0                      3.0                  4.0   \n",
       "1               210.0                      3.0                  4.0   \n",
       "2               187.0                      3.0                  4.0   \n",
       "3               196.0                      3.0                  4.0   \n",
       "4               200.0                      3.0                  4.0   \n",
       "\n",
       "   Uso mensual (h)  Distancia recorrida (km)  ...  Lubricante compresor (l)  \\\n",
       "0            164.8                    2142.4  ...                       NaN   \n",
       "1            168.0                    2184.0  ...                       NaN   \n",
       "2            149.6                    1944.8  ...                       NaN   \n",
       "3            156.8                    2038.4  ...                       NaN   \n",
       "4            160.0                    2080.0  ...                       NaN   \n",
       "\n",
       "   Tipo de lubricante compresor Lubricante motor diésel (l)  \\\n",
       "0         LUBRICANTE SAE 15W-40                         NaN   \n",
       "1         LUBRICANTE SAE 15W-40                         NaN   \n",
       "2         LUBRICANTE SAE 20W-40                         NaN   \n",
       "3         LUBRICANTE SAE 15W-40                         NaN   \n",
       "4         LUBRICANTE SAE 15W-40                         NaN   \n",
       "\n",
       "   Tipo de lubricante motor diésel Filtro  aire  \\\n",
       "0            LUBRICANTE SAE 15W-40          NaN   \n",
       "1            LUBRICANTE SAE 20W-40          NaN   \n",
       "2            LUBRICANTE SAE 20W-40          NaN   \n",
       "3            LUBRICANTE SAE 15W-40          NaN   \n",
       "4            LUBRICANTE SAE 15W-40          NaN   \n",
       "\n",
       "                                Tipo de filtro  aire Filtro primario  \\\n",
       "0  FILTRO AIRE IGUAL O SIMILAR A N° PARTE VOLVO P...             NaN   \n",
       "1  FILTRO AIRE IGUAL O SIMILAR A N° PARTE VOLVO P...             NaN   \n",
       "2  FILTRO AIRE IGUAL O SIMILAR A N° PARTE VOLVO P...             NaN   \n",
       "3  FILTRO AIRE IGUAL O SIMILAR A N° PARTE VOLVO P...             NaN   \n",
       "4  FILTRO AIRE IGUAL O SIMILAR A N° PARTE VOLVO P...             NaN   \n",
       "\n",
       "                             Tipo de filtro primario  \\\n",
       "0  FILTRO DIESEL TIPO RACOR IGUAL O SIMILAR A TEC...   \n",
       "1  FILTRO DIESEL TIPO RACOR IGUAL O SIMILAR A TEC...   \n",
       "2  FILTRO DIESEL TIPO RACOR IGUAL O SIMILAR A TEC...   \n",
       "3  FILTRO DIESEL TIPO RACOR IGUAL O SIMILAR A TEC...   \n",
       "4  FILTRO DIESEL TIPO RACOR IGUAL O SIMILAR A TEC...   \n",
       "\n",
       "  Aceite sistema hidráulico  Tipo de aceite sistema hidráulico  \n",
       "0                       NaN              ACEITE ATF DEXRON III  \n",
       "1                       NaN              ACEITE ATF DEXRON III  \n",
       "2                       NaN              ACEITE ATF DEXRON III  \n",
       "3                       NaN              ACEITE ATF DEXRON III  \n",
       "4                       NaN              ACEITE ATF DEXRON III  \n",
       "\n",
       "[5 rows x 25 columns]"
      ],
      "text/html": [
       "<div>\n",
       "<style scoped>\n",
       "    .dataframe tbody tr th:only-of-type {\n",
       "        vertical-align: middle;\n",
       "    }\n",
       "\n",
       "    .dataframe tbody tr th {\n",
       "        vertical-align: top;\n",
       "    }\n",
       "\n",
       "    .dataframe thead th {\n",
       "        text-align: right;\n",
       "    }\n",
       "</style>\n",
       "<table border=\"1\" class=\"dataframe\">\n",
       "  <thead>\n",
       "    <tr style=\"text-align: right;\">\n",
       "      <th></th>\n",
       "      <th>Codigo de Ruta</th>\n",
       "      <th>Descripcion de Ruta</th>\n",
       "      <th>Mes</th>\n",
       "      <th>Año</th>\n",
       "      <th>Tipo de Equipo</th>\n",
       "      <th>Cantidad de viajes</th>\n",
       "      <th>Cantidad de Locomotoras</th>\n",
       "      <th>Cantidad de Vagones</th>\n",
       "      <th>Uso mensual (h)</th>\n",
       "      <th>Distancia recorrida (km)</th>\n",
       "      <th>...</th>\n",
       "      <th>Lubricante compresor (l)</th>\n",
       "      <th>Tipo de lubricante compresor</th>\n",
       "      <th>Lubricante motor diésel (l)</th>\n",
       "      <th>Tipo de lubricante motor diésel</th>\n",
       "      <th>Filtro  aire</th>\n",
       "      <th>Tipo de filtro  aire</th>\n",
       "      <th>Filtro primario</th>\n",
       "      <th>Tipo de filtro primario</th>\n",
       "      <th>Aceite sistema hidráulico</th>\n",
       "      <th>Tipo de aceite sistema hidráulico</th>\n",
       "    </tr>\n",
       "  </thead>\n",
       "  <tbody>\n",
       "    <tr>\n",
       "      <th>0</th>\n",
       "      <td>RF005</td>\n",
       "      <td>ALAJUELA - HEREDIA Y VICEVERSA</td>\n",
       "      <td>6</td>\n",
       "      <td>2025</td>\n",
       "      <td>DMU APOLO</td>\n",
       "      <td>206.0</td>\n",
       "      <td>3.0</td>\n",
       "      <td>4.0</td>\n",
       "      <td>164.8</td>\n",
       "      <td>2142.4</td>\n",
       "      <td>...</td>\n",
       "      <td>NaN</td>\n",
       "      <td>LUBRICANTE SAE 15W-40</td>\n",
       "      <td>NaN</td>\n",
       "      <td>LUBRICANTE SAE 15W-40</td>\n",
       "      <td>NaN</td>\n",
       "      <td>FILTRO AIRE IGUAL O SIMILAR A N° PARTE VOLVO P...</td>\n",
       "      <td>NaN</td>\n",
       "      <td>FILTRO DIESEL TIPO RACOR IGUAL O SIMILAR A TEC...</td>\n",
       "      <td>NaN</td>\n",
       "      <td>ACEITE ATF DEXRON III</td>\n",
       "    </tr>\n",
       "    <tr>\n",
       "      <th>1</th>\n",
       "      <td>RF005</td>\n",
       "      <td>ALAJUELA - HEREDIA Y VICEVERSA</td>\n",
       "      <td>5</td>\n",
       "      <td>2025</td>\n",
       "      <td>DMU APOLO</td>\n",
       "      <td>210.0</td>\n",
       "      <td>3.0</td>\n",
       "      <td>4.0</td>\n",
       "      <td>168.0</td>\n",
       "      <td>2184.0</td>\n",
       "      <td>...</td>\n",
       "      <td>NaN</td>\n",
       "      <td>LUBRICANTE SAE 15W-40</td>\n",
       "      <td>NaN</td>\n",
       "      <td>LUBRICANTE SAE 20W-40</td>\n",
       "      <td>NaN</td>\n",
       "      <td>FILTRO AIRE IGUAL O SIMILAR A N° PARTE VOLVO P...</td>\n",
       "      <td>NaN</td>\n",
       "      <td>FILTRO DIESEL TIPO RACOR IGUAL O SIMILAR A TEC...</td>\n",
       "      <td>NaN</td>\n",
       "      <td>ACEITE ATF DEXRON III</td>\n",
       "    </tr>\n",
       "    <tr>\n",
       "      <th>2</th>\n",
       "      <td>RF005</td>\n",
       "      <td>ALAJUELA - HEREDIA Y VICEVERSA</td>\n",
       "      <td>4</td>\n",
       "      <td>2025</td>\n",
       "      <td>DMU APOLO</td>\n",
       "      <td>187.0</td>\n",
       "      <td>3.0</td>\n",
       "      <td>4.0</td>\n",
       "      <td>149.6</td>\n",
       "      <td>1944.8</td>\n",
       "      <td>...</td>\n",
       "      <td>NaN</td>\n",
       "      <td>LUBRICANTE SAE 20W-40</td>\n",
       "      <td>NaN</td>\n",
       "      <td>LUBRICANTE SAE 20W-40</td>\n",
       "      <td>NaN</td>\n",
       "      <td>FILTRO AIRE IGUAL O SIMILAR A N° PARTE VOLVO P...</td>\n",
       "      <td>NaN</td>\n",
       "      <td>FILTRO DIESEL TIPO RACOR IGUAL O SIMILAR A TEC...</td>\n",
       "      <td>NaN</td>\n",
       "      <td>ACEITE ATF DEXRON III</td>\n",
       "    </tr>\n",
       "    <tr>\n",
       "      <th>3</th>\n",
       "      <td>RF005</td>\n",
       "      <td>ALAJUELA - HEREDIA Y VICEVERSA</td>\n",
       "      <td>3</td>\n",
       "      <td>2025</td>\n",
       "      <td>DMU APOLO</td>\n",
       "      <td>196.0</td>\n",
       "      <td>3.0</td>\n",
       "      <td>4.0</td>\n",
       "      <td>156.8</td>\n",
       "      <td>2038.4</td>\n",
       "      <td>...</td>\n",
       "      <td>NaN</td>\n",
       "      <td>LUBRICANTE SAE 15W-40</td>\n",
       "      <td>NaN</td>\n",
       "      <td>LUBRICANTE SAE 15W-40</td>\n",
       "      <td>NaN</td>\n",
       "      <td>FILTRO AIRE IGUAL O SIMILAR A N° PARTE VOLVO P...</td>\n",
       "      <td>NaN</td>\n",
       "      <td>FILTRO DIESEL TIPO RACOR IGUAL O SIMILAR A TEC...</td>\n",
       "      <td>NaN</td>\n",
       "      <td>ACEITE ATF DEXRON III</td>\n",
       "    </tr>\n",
       "    <tr>\n",
       "      <th>4</th>\n",
       "      <td>RF005</td>\n",
       "      <td>ALAJUELA - HEREDIA Y VICEVERSA</td>\n",
       "      <td>2</td>\n",
       "      <td>2025</td>\n",
       "      <td>DMU APOLO</td>\n",
       "      <td>200.0</td>\n",
       "      <td>3.0</td>\n",
       "      <td>4.0</td>\n",
       "      <td>160.0</td>\n",
       "      <td>2080.0</td>\n",
       "      <td>...</td>\n",
       "      <td>NaN</td>\n",
       "      <td>LUBRICANTE SAE 15W-40</td>\n",
       "      <td>NaN</td>\n",
       "      <td>LUBRICANTE SAE 15W-40</td>\n",
       "      <td>NaN</td>\n",
       "      <td>FILTRO AIRE IGUAL O SIMILAR A N° PARTE VOLVO P...</td>\n",
       "      <td>NaN</td>\n",
       "      <td>FILTRO DIESEL TIPO RACOR IGUAL O SIMILAR A TEC...</td>\n",
       "      <td>NaN</td>\n",
       "      <td>ACEITE ATF DEXRON III</td>\n",
       "    </tr>\n",
       "  </tbody>\n",
       "</table>\n",
       "<p>5 rows × 25 columns</p>\n",
       "</div>"
      ]
     },
     "execution_count": 301,
     "metadata": {},
     "output_type": "execute_result"
    }
   ],
   "execution_count": 301
  },
  {
   "metadata": {
    "ExecuteTime": {
     "end_time": "2025-08-16T20:00:33.287065Z",
     "start_time": "2025-08-16T20:00:33.283390Z"
    }
   },
   "cell_type": "code",
   "source": "procesador = ProcesadorEDA(df_locomotoras)\n",
   "id": "61181339f4821f2f",
   "outputs": [],
   "execution_count": 302
  },
  {
   "metadata": {
    "ExecuteTime": {
     "end_time": "2025-08-16T20:00:34.422353Z",
     "start_time": "2025-08-16T20:00:34.408477Z"
    }
   },
   "cell_type": "code",
   "source": "procesador.mostrar_head()",
   "id": "1881f97010501d65",
   "outputs": [
    {
     "data": {
      "text/plain": [
       "  Codigo de Ruta             Descripcion de Ruta  Mes   Año Tipo de Equipo  \\\n",
       "0          RF005  ALAJUELA - HEREDIA Y VICEVERSA    6  2025      DMU APOLO   \n",
       "1          RF005  ALAJUELA - HEREDIA Y VICEVERSA    5  2025      DMU APOLO   \n",
       "2          RF005  ALAJUELA - HEREDIA Y VICEVERSA    4  2025      DMU APOLO   \n",
       "3          RF005  ALAJUELA - HEREDIA Y VICEVERSA    3  2025      DMU APOLO   \n",
       "4          RF005  ALAJUELA - HEREDIA Y VICEVERSA    2  2025      DMU APOLO   \n",
       "\n",
       "   Cantidad de viajes  Cantidad de Locomotoras  Cantidad de Vagones  \\\n",
       "0               206.0                      3.0                  4.0   \n",
       "1               210.0                      3.0                  4.0   \n",
       "2               187.0                      3.0                  4.0   \n",
       "3               196.0                      3.0                  4.0   \n",
       "4               200.0                      3.0                  4.0   \n",
       "\n",
       "   Uso mensual (h)  Distancia recorrida (km)  ...  Lubricante compresor (l)  \\\n",
       "0            164.8                    2142.4  ...                       NaN   \n",
       "1            168.0                    2184.0  ...                       NaN   \n",
       "2            149.6                    1944.8  ...                       NaN   \n",
       "3            156.8                    2038.4  ...                       NaN   \n",
       "4            160.0                    2080.0  ...                       NaN   \n",
       "\n",
       "   Tipo de lubricante compresor Lubricante motor diésel (l)  \\\n",
       "0         LUBRICANTE SAE 15W-40                         NaN   \n",
       "1         LUBRICANTE SAE 15W-40                         NaN   \n",
       "2         LUBRICANTE SAE 20W-40                         NaN   \n",
       "3         LUBRICANTE SAE 15W-40                         NaN   \n",
       "4         LUBRICANTE SAE 15W-40                         NaN   \n",
       "\n",
       "   Tipo de lubricante motor diésel Filtro  aire  \\\n",
       "0            LUBRICANTE SAE 15W-40          NaN   \n",
       "1            LUBRICANTE SAE 20W-40          NaN   \n",
       "2            LUBRICANTE SAE 20W-40          NaN   \n",
       "3            LUBRICANTE SAE 15W-40          NaN   \n",
       "4            LUBRICANTE SAE 15W-40          NaN   \n",
       "\n",
       "                                Tipo de filtro  aire Filtro primario  \\\n",
       "0  FILTRO AIRE IGUAL O SIMILAR A N° PARTE VOLVO P...             NaN   \n",
       "1  FILTRO AIRE IGUAL O SIMILAR A N° PARTE VOLVO P...             NaN   \n",
       "2  FILTRO AIRE IGUAL O SIMILAR A N° PARTE VOLVO P...             NaN   \n",
       "3  FILTRO AIRE IGUAL O SIMILAR A N° PARTE VOLVO P...             NaN   \n",
       "4  FILTRO AIRE IGUAL O SIMILAR A N° PARTE VOLVO P...             NaN   \n",
       "\n",
       "                             Tipo de filtro primario  \\\n",
       "0  FILTRO DIESEL TIPO RACOR IGUAL O SIMILAR A TEC...   \n",
       "1  FILTRO DIESEL TIPO RACOR IGUAL O SIMILAR A TEC...   \n",
       "2  FILTRO DIESEL TIPO RACOR IGUAL O SIMILAR A TEC...   \n",
       "3  FILTRO DIESEL TIPO RACOR IGUAL O SIMILAR A TEC...   \n",
       "4  FILTRO DIESEL TIPO RACOR IGUAL O SIMILAR A TEC...   \n",
       "\n",
       "  Aceite sistema hidráulico  Tipo de aceite sistema hidráulico  \n",
       "0                       NaN              ACEITE ATF DEXRON III  \n",
       "1                       NaN              ACEITE ATF DEXRON III  \n",
       "2                       NaN              ACEITE ATF DEXRON III  \n",
       "3                       NaN              ACEITE ATF DEXRON III  \n",
       "4                       NaN              ACEITE ATF DEXRON III  \n",
       "\n",
       "[5 rows x 25 columns]"
      ],
      "text/html": [
       "<div>\n",
       "<style scoped>\n",
       "    .dataframe tbody tr th:only-of-type {\n",
       "        vertical-align: middle;\n",
       "    }\n",
       "\n",
       "    .dataframe tbody tr th {\n",
       "        vertical-align: top;\n",
       "    }\n",
       "\n",
       "    .dataframe thead th {\n",
       "        text-align: right;\n",
       "    }\n",
       "</style>\n",
       "<table border=\"1\" class=\"dataframe\">\n",
       "  <thead>\n",
       "    <tr style=\"text-align: right;\">\n",
       "      <th></th>\n",
       "      <th>Codigo de Ruta</th>\n",
       "      <th>Descripcion de Ruta</th>\n",
       "      <th>Mes</th>\n",
       "      <th>Año</th>\n",
       "      <th>Tipo de Equipo</th>\n",
       "      <th>Cantidad de viajes</th>\n",
       "      <th>Cantidad de Locomotoras</th>\n",
       "      <th>Cantidad de Vagones</th>\n",
       "      <th>Uso mensual (h)</th>\n",
       "      <th>Distancia recorrida (km)</th>\n",
       "      <th>...</th>\n",
       "      <th>Lubricante compresor (l)</th>\n",
       "      <th>Tipo de lubricante compresor</th>\n",
       "      <th>Lubricante motor diésel (l)</th>\n",
       "      <th>Tipo de lubricante motor diésel</th>\n",
       "      <th>Filtro  aire</th>\n",
       "      <th>Tipo de filtro  aire</th>\n",
       "      <th>Filtro primario</th>\n",
       "      <th>Tipo de filtro primario</th>\n",
       "      <th>Aceite sistema hidráulico</th>\n",
       "      <th>Tipo de aceite sistema hidráulico</th>\n",
       "    </tr>\n",
       "  </thead>\n",
       "  <tbody>\n",
       "    <tr>\n",
       "      <th>0</th>\n",
       "      <td>RF005</td>\n",
       "      <td>ALAJUELA - HEREDIA Y VICEVERSA</td>\n",
       "      <td>6</td>\n",
       "      <td>2025</td>\n",
       "      <td>DMU APOLO</td>\n",
       "      <td>206.0</td>\n",
       "      <td>3.0</td>\n",
       "      <td>4.0</td>\n",
       "      <td>164.8</td>\n",
       "      <td>2142.4</td>\n",
       "      <td>...</td>\n",
       "      <td>NaN</td>\n",
       "      <td>LUBRICANTE SAE 15W-40</td>\n",
       "      <td>NaN</td>\n",
       "      <td>LUBRICANTE SAE 15W-40</td>\n",
       "      <td>NaN</td>\n",
       "      <td>FILTRO AIRE IGUAL O SIMILAR A N° PARTE VOLVO P...</td>\n",
       "      <td>NaN</td>\n",
       "      <td>FILTRO DIESEL TIPO RACOR IGUAL O SIMILAR A TEC...</td>\n",
       "      <td>NaN</td>\n",
       "      <td>ACEITE ATF DEXRON III</td>\n",
       "    </tr>\n",
       "    <tr>\n",
       "      <th>1</th>\n",
       "      <td>RF005</td>\n",
       "      <td>ALAJUELA - HEREDIA Y VICEVERSA</td>\n",
       "      <td>5</td>\n",
       "      <td>2025</td>\n",
       "      <td>DMU APOLO</td>\n",
       "      <td>210.0</td>\n",
       "      <td>3.0</td>\n",
       "      <td>4.0</td>\n",
       "      <td>168.0</td>\n",
       "      <td>2184.0</td>\n",
       "      <td>...</td>\n",
       "      <td>NaN</td>\n",
       "      <td>LUBRICANTE SAE 15W-40</td>\n",
       "      <td>NaN</td>\n",
       "      <td>LUBRICANTE SAE 20W-40</td>\n",
       "      <td>NaN</td>\n",
       "      <td>FILTRO AIRE IGUAL O SIMILAR A N° PARTE VOLVO P...</td>\n",
       "      <td>NaN</td>\n",
       "      <td>FILTRO DIESEL TIPO RACOR IGUAL O SIMILAR A TEC...</td>\n",
       "      <td>NaN</td>\n",
       "      <td>ACEITE ATF DEXRON III</td>\n",
       "    </tr>\n",
       "    <tr>\n",
       "      <th>2</th>\n",
       "      <td>RF005</td>\n",
       "      <td>ALAJUELA - HEREDIA Y VICEVERSA</td>\n",
       "      <td>4</td>\n",
       "      <td>2025</td>\n",
       "      <td>DMU APOLO</td>\n",
       "      <td>187.0</td>\n",
       "      <td>3.0</td>\n",
       "      <td>4.0</td>\n",
       "      <td>149.6</td>\n",
       "      <td>1944.8</td>\n",
       "      <td>...</td>\n",
       "      <td>NaN</td>\n",
       "      <td>LUBRICANTE SAE 20W-40</td>\n",
       "      <td>NaN</td>\n",
       "      <td>LUBRICANTE SAE 20W-40</td>\n",
       "      <td>NaN</td>\n",
       "      <td>FILTRO AIRE IGUAL O SIMILAR A N° PARTE VOLVO P...</td>\n",
       "      <td>NaN</td>\n",
       "      <td>FILTRO DIESEL TIPO RACOR IGUAL O SIMILAR A TEC...</td>\n",
       "      <td>NaN</td>\n",
       "      <td>ACEITE ATF DEXRON III</td>\n",
       "    </tr>\n",
       "    <tr>\n",
       "      <th>3</th>\n",
       "      <td>RF005</td>\n",
       "      <td>ALAJUELA - HEREDIA Y VICEVERSA</td>\n",
       "      <td>3</td>\n",
       "      <td>2025</td>\n",
       "      <td>DMU APOLO</td>\n",
       "      <td>196.0</td>\n",
       "      <td>3.0</td>\n",
       "      <td>4.0</td>\n",
       "      <td>156.8</td>\n",
       "      <td>2038.4</td>\n",
       "      <td>...</td>\n",
       "      <td>NaN</td>\n",
       "      <td>LUBRICANTE SAE 15W-40</td>\n",
       "      <td>NaN</td>\n",
       "      <td>LUBRICANTE SAE 15W-40</td>\n",
       "      <td>NaN</td>\n",
       "      <td>FILTRO AIRE IGUAL O SIMILAR A N° PARTE VOLVO P...</td>\n",
       "      <td>NaN</td>\n",
       "      <td>FILTRO DIESEL TIPO RACOR IGUAL O SIMILAR A TEC...</td>\n",
       "      <td>NaN</td>\n",
       "      <td>ACEITE ATF DEXRON III</td>\n",
       "    </tr>\n",
       "    <tr>\n",
       "      <th>4</th>\n",
       "      <td>RF005</td>\n",
       "      <td>ALAJUELA - HEREDIA Y VICEVERSA</td>\n",
       "      <td>2</td>\n",
       "      <td>2025</td>\n",
       "      <td>DMU APOLO</td>\n",
       "      <td>200.0</td>\n",
       "      <td>3.0</td>\n",
       "      <td>4.0</td>\n",
       "      <td>160.0</td>\n",
       "      <td>2080.0</td>\n",
       "      <td>...</td>\n",
       "      <td>NaN</td>\n",
       "      <td>LUBRICANTE SAE 15W-40</td>\n",
       "      <td>NaN</td>\n",
       "      <td>LUBRICANTE SAE 15W-40</td>\n",
       "      <td>NaN</td>\n",
       "      <td>FILTRO AIRE IGUAL O SIMILAR A N° PARTE VOLVO P...</td>\n",
       "      <td>NaN</td>\n",
       "      <td>FILTRO DIESEL TIPO RACOR IGUAL O SIMILAR A TEC...</td>\n",
       "      <td>NaN</td>\n",
       "      <td>ACEITE ATF DEXRON III</td>\n",
       "    </tr>\n",
       "  </tbody>\n",
       "</table>\n",
       "<p>5 rows × 25 columns</p>\n",
       "</div>"
      ]
     },
     "execution_count": 303,
     "metadata": {},
     "output_type": "execute_result"
    }
   ],
   "execution_count": 303
  },
  {
   "metadata": {
    "ExecuteTime": {
     "end_time": "2025-08-16T20:00:36.036785Z",
     "start_time": "2025-08-16T20:00:36.025983Z"
    }
   },
   "cell_type": "code",
   "source": [
    "# Eliminar las columnas irrelevantes\n",
    "columnas_a_eliminar = [\n",
    "    'Cantidad de Zapata Freno', 'Tipo de  Zapata  Freno', 'Lubricante cárter (l)',\n",
    "    'Tipo de lubricante cárter', 'Lubricante compresor (l)', 'Tipo de lubricante compresor',\n",
    "    'Lubricante motor diésel (l)', 'Tipo de lubricante motor diésel', 'Filtro  aire',\n",
    "    'Tipo de filtro  aire', 'Filtro primario', 'Tipo de filtro primario',\n",
    "    'Aceite sistema hidráulico', 'Tipo de aceite sistema hidráulico'\n",
    "]\n",
    "df_locomotoras.drop(columns=columnas_a_eliminar, inplace=True)\n",
    "df_locomotoras.head()"
   ],
   "id": "676316caf0142b41",
   "outputs": [
    {
     "data": {
      "text/plain": [
       "  Codigo de Ruta             Descripcion de Ruta  Mes   Año Tipo de Equipo  \\\n",
       "0          RF005  ALAJUELA - HEREDIA Y VICEVERSA    6  2025      DMU APOLO   \n",
       "1          RF005  ALAJUELA - HEREDIA Y VICEVERSA    5  2025      DMU APOLO   \n",
       "2          RF005  ALAJUELA - HEREDIA Y VICEVERSA    4  2025      DMU APOLO   \n",
       "3          RF005  ALAJUELA - HEREDIA Y VICEVERSA    3  2025      DMU APOLO   \n",
       "4          RF005  ALAJUELA - HEREDIA Y VICEVERSA    2  2025      DMU APOLO   \n",
       "\n",
       "   Cantidad de viajes  Cantidad de Locomotoras  Cantidad de Vagones  \\\n",
       "0               206.0                      3.0                  4.0   \n",
       "1               210.0                      3.0                  4.0   \n",
       "2               187.0                      3.0                  4.0   \n",
       "3               196.0                      3.0                  4.0   \n",
       "4               200.0                      3.0                  4.0   \n",
       "\n",
       "   Uso mensual (h)  Distancia recorrida (km)  Consumo de combustible (L)  \n",
       "0            164.8                    2142.4                      8998.0  \n",
       "1            168.0                    2184.0                      9173.0  \n",
       "2            149.6                    1944.8                      8168.0  \n",
       "3            156.8                    2038.4                      8561.0  \n",
       "4            160.0                    2080.0                      8736.0  "
      ],
      "text/html": [
       "<div>\n",
       "<style scoped>\n",
       "    .dataframe tbody tr th:only-of-type {\n",
       "        vertical-align: middle;\n",
       "    }\n",
       "\n",
       "    .dataframe tbody tr th {\n",
       "        vertical-align: top;\n",
       "    }\n",
       "\n",
       "    .dataframe thead th {\n",
       "        text-align: right;\n",
       "    }\n",
       "</style>\n",
       "<table border=\"1\" class=\"dataframe\">\n",
       "  <thead>\n",
       "    <tr style=\"text-align: right;\">\n",
       "      <th></th>\n",
       "      <th>Codigo de Ruta</th>\n",
       "      <th>Descripcion de Ruta</th>\n",
       "      <th>Mes</th>\n",
       "      <th>Año</th>\n",
       "      <th>Tipo de Equipo</th>\n",
       "      <th>Cantidad de viajes</th>\n",
       "      <th>Cantidad de Locomotoras</th>\n",
       "      <th>Cantidad de Vagones</th>\n",
       "      <th>Uso mensual (h)</th>\n",
       "      <th>Distancia recorrida (km)</th>\n",
       "      <th>Consumo de combustible (L)</th>\n",
       "    </tr>\n",
       "  </thead>\n",
       "  <tbody>\n",
       "    <tr>\n",
       "      <th>0</th>\n",
       "      <td>RF005</td>\n",
       "      <td>ALAJUELA - HEREDIA Y VICEVERSA</td>\n",
       "      <td>6</td>\n",
       "      <td>2025</td>\n",
       "      <td>DMU APOLO</td>\n",
       "      <td>206.0</td>\n",
       "      <td>3.0</td>\n",
       "      <td>4.0</td>\n",
       "      <td>164.8</td>\n",
       "      <td>2142.4</td>\n",
       "      <td>8998.0</td>\n",
       "    </tr>\n",
       "    <tr>\n",
       "      <th>1</th>\n",
       "      <td>RF005</td>\n",
       "      <td>ALAJUELA - HEREDIA Y VICEVERSA</td>\n",
       "      <td>5</td>\n",
       "      <td>2025</td>\n",
       "      <td>DMU APOLO</td>\n",
       "      <td>210.0</td>\n",
       "      <td>3.0</td>\n",
       "      <td>4.0</td>\n",
       "      <td>168.0</td>\n",
       "      <td>2184.0</td>\n",
       "      <td>9173.0</td>\n",
       "    </tr>\n",
       "    <tr>\n",
       "      <th>2</th>\n",
       "      <td>RF005</td>\n",
       "      <td>ALAJUELA - HEREDIA Y VICEVERSA</td>\n",
       "      <td>4</td>\n",
       "      <td>2025</td>\n",
       "      <td>DMU APOLO</td>\n",
       "      <td>187.0</td>\n",
       "      <td>3.0</td>\n",
       "      <td>4.0</td>\n",
       "      <td>149.6</td>\n",
       "      <td>1944.8</td>\n",
       "      <td>8168.0</td>\n",
       "    </tr>\n",
       "    <tr>\n",
       "      <th>3</th>\n",
       "      <td>RF005</td>\n",
       "      <td>ALAJUELA - HEREDIA Y VICEVERSA</td>\n",
       "      <td>3</td>\n",
       "      <td>2025</td>\n",
       "      <td>DMU APOLO</td>\n",
       "      <td>196.0</td>\n",
       "      <td>3.0</td>\n",
       "      <td>4.0</td>\n",
       "      <td>156.8</td>\n",
       "      <td>2038.4</td>\n",
       "      <td>8561.0</td>\n",
       "    </tr>\n",
       "    <tr>\n",
       "      <th>4</th>\n",
       "      <td>RF005</td>\n",
       "      <td>ALAJUELA - HEREDIA Y VICEVERSA</td>\n",
       "      <td>2</td>\n",
       "      <td>2025</td>\n",
       "      <td>DMU APOLO</td>\n",
       "      <td>200.0</td>\n",
       "      <td>3.0</td>\n",
       "      <td>4.0</td>\n",
       "      <td>160.0</td>\n",
       "      <td>2080.0</td>\n",
       "      <td>8736.0</td>\n",
       "    </tr>\n",
       "  </tbody>\n",
       "</table>\n",
       "</div>"
      ]
     },
     "execution_count": 304,
     "metadata": {},
     "output_type": "execute_result"
    }
   ],
   "execution_count": 304
  },
  {
   "metadata": {
    "ExecuteTime": {
     "end_time": "2025-08-16T20:00:38.059922Z",
     "start_time": "2025-08-16T20:00:38.053176Z"
    }
   },
   "cell_type": "code",
   "source": "procesador.mostrar_info()",
   "id": "eae8ac577079f36d",
   "outputs": [
    {
     "name": "stdout",
     "output_type": "stream",
     "text": [
      "<class 'pandas.core.frame.DataFrame'>\n",
      "RangeIndex: 270 entries, 0 to 269\n",
      "Data columns (total 11 columns):\n",
      " #   Column                      Non-Null Count  Dtype  \n",
      "---  ------                      --------------  -----  \n",
      " 0   Codigo de Ruta              270 non-null    object \n",
      " 1   Descripcion de Ruta         270 non-null    object \n",
      " 2   Mes                         270 non-null    int64  \n",
      " 3   Año                         270 non-null    int64  \n",
      " 4   Tipo de Equipo              270 non-null    object \n",
      " 5   Cantidad de viajes          262 non-null    float64\n",
      " 6   Cantidad de Locomotoras     262 non-null    float64\n",
      " 7   Cantidad de Vagones         204 non-null    float64\n",
      " 8   Uso mensual (h)             262 non-null    float64\n",
      " 9   Distancia recorrida (km)    262 non-null    float64\n",
      " 10  Consumo de combustible (L)  262 non-null    float64\n",
      "dtypes: float64(6), int64(2), object(3)\n",
      "memory usage: 23.3+ KB\n"
     ]
    }
   ],
   "execution_count": 305
  },
  {
   "metadata": {
    "ExecuteTime": {
     "end_time": "2025-08-16T20:00:40.348313Z",
     "start_time": "2025-08-16T20:00:40.343438Z"
    }
   },
   "cell_type": "code",
   "source": "procesador.mostrar_dimensiones()",
   "id": "1c24428ab99df5df",
   "outputs": [
    {
     "data": {
      "text/plain": [
       "(270, 11)"
      ]
     },
     "execution_count": 306,
     "metadata": {},
     "output_type": "execute_result"
    }
   ],
   "execution_count": 306
  },
  {
   "metadata": {
    "ExecuteTime": {
     "end_time": "2025-08-16T20:00:41.286370Z",
     "start_time": "2025-08-16T20:00:41.273327Z"
    }
   },
   "cell_type": "code",
   "source": "procesador.mostrar_resumen_descriptivo()",
   "id": "a47c193ec396ebef",
   "outputs": [
    {
     "data": {
      "text/plain": [
       "              Mes          Año  Cantidad de viajes  Cantidad de Locomotoras  \\\n",
       "count  270.000000   270.000000          262.000000               262.000000   \n",
       "mean     6.166667  2022.777778          323.874046                 2.748092   \n",
       "std      3.442302     1.317126          220.479561                 1.497602   \n",
       "min      1.000000  2021.000000           30.000000                 1.000000   \n",
       "25%      3.000000  2022.000000          132.000000                 2.000000   \n",
       "50%      6.000000  2023.000000          220.000000                 3.000000   \n",
       "75%      9.000000  2024.000000          528.500000                 4.000000   \n",
       "max     12.000000  2025.000000          828.000000                 8.000000   \n",
       "\n",
       "       Cantidad de Vagones  Uso mensual (h)  Distancia recorrida (km)  \\\n",
       "count           204.000000       262.000000                262.000000   \n",
       "mean              7.754902      4961.720687              28485.394885   \n",
       "std               4.591567     11877.735866              60259.593940   \n",
       "min               2.000000        25.000000                342.000000   \n",
       "25%               4.000000       138.000000               2730.000000   \n",
       "50%               6.000000       273.000000               8245.500000   \n",
       "75%              12.000000       958.750000              13936.000000   \n",
       "max              14.000000     56672.000000             599824.000000   \n",
       "\n",
       "       Consumo de combustible (L)  \n",
       "count                  262.000000  \n",
       "mean                 27460.698473  \n",
       "std                  31954.617522  \n",
       "min                    412.000000  \n",
       "25%                   8797.500000  \n",
       "50%                  18611.500000  \n",
       "75%                  36020.000000  \n",
       "max                 231525.000000  "
      ],
      "text/html": [
       "<div>\n",
       "<style scoped>\n",
       "    .dataframe tbody tr th:only-of-type {\n",
       "        vertical-align: middle;\n",
       "    }\n",
       "\n",
       "    .dataframe tbody tr th {\n",
       "        vertical-align: top;\n",
       "    }\n",
       "\n",
       "    .dataframe thead th {\n",
       "        text-align: right;\n",
       "    }\n",
       "</style>\n",
       "<table border=\"1\" class=\"dataframe\">\n",
       "  <thead>\n",
       "    <tr style=\"text-align: right;\">\n",
       "      <th></th>\n",
       "      <th>Mes</th>\n",
       "      <th>Año</th>\n",
       "      <th>Cantidad de viajes</th>\n",
       "      <th>Cantidad de Locomotoras</th>\n",
       "      <th>Cantidad de Vagones</th>\n",
       "      <th>Uso mensual (h)</th>\n",
       "      <th>Distancia recorrida (km)</th>\n",
       "      <th>Consumo de combustible (L)</th>\n",
       "    </tr>\n",
       "  </thead>\n",
       "  <tbody>\n",
       "    <tr>\n",
       "      <th>count</th>\n",
       "      <td>270.000000</td>\n",
       "      <td>270.000000</td>\n",
       "      <td>262.000000</td>\n",
       "      <td>262.000000</td>\n",
       "      <td>204.000000</td>\n",
       "      <td>262.000000</td>\n",
       "      <td>262.000000</td>\n",
       "      <td>262.000000</td>\n",
       "    </tr>\n",
       "    <tr>\n",
       "      <th>mean</th>\n",
       "      <td>6.166667</td>\n",
       "      <td>2022.777778</td>\n",
       "      <td>323.874046</td>\n",
       "      <td>2.748092</td>\n",
       "      <td>7.754902</td>\n",
       "      <td>4961.720687</td>\n",
       "      <td>28485.394885</td>\n",
       "      <td>27460.698473</td>\n",
       "    </tr>\n",
       "    <tr>\n",
       "      <th>std</th>\n",
       "      <td>3.442302</td>\n",
       "      <td>1.317126</td>\n",
       "      <td>220.479561</td>\n",
       "      <td>1.497602</td>\n",
       "      <td>4.591567</td>\n",
       "      <td>11877.735866</td>\n",
       "      <td>60259.593940</td>\n",
       "      <td>31954.617522</td>\n",
       "    </tr>\n",
       "    <tr>\n",
       "      <th>min</th>\n",
       "      <td>1.000000</td>\n",
       "      <td>2021.000000</td>\n",
       "      <td>30.000000</td>\n",
       "      <td>1.000000</td>\n",
       "      <td>2.000000</td>\n",
       "      <td>25.000000</td>\n",
       "      <td>342.000000</td>\n",
       "      <td>412.000000</td>\n",
       "    </tr>\n",
       "    <tr>\n",
       "      <th>25%</th>\n",
       "      <td>3.000000</td>\n",
       "      <td>2022.000000</td>\n",
       "      <td>132.000000</td>\n",
       "      <td>2.000000</td>\n",
       "      <td>4.000000</td>\n",
       "      <td>138.000000</td>\n",
       "      <td>2730.000000</td>\n",
       "      <td>8797.500000</td>\n",
       "    </tr>\n",
       "    <tr>\n",
       "      <th>50%</th>\n",
       "      <td>6.000000</td>\n",
       "      <td>2023.000000</td>\n",
       "      <td>220.000000</td>\n",
       "      <td>3.000000</td>\n",
       "      <td>6.000000</td>\n",
       "      <td>273.000000</td>\n",
       "      <td>8245.500000</td>\n",
       "      <td>18611.500000</td>\n",
       "    </tr>\n",
       "    <tr>\n",
       "      <th>75%</th>\n",
       "      <td>9.000000</td>\n",
       "      <td>2024.000000</td>\n",
       "      <td>528.500000</td>\n",
       "      <td>4.000000</td>\n",
       "      <td>12.000000</td>\n",
       "      <td>958.750000</td>\n",
       "      <td>13936.000000</td>\n",
       "      <td>36020.000000</td>\n",
       "    </tr>\n",
       "    <tr>\n",
       "      <th>max</th>\n",
       "      <td>12.000000</td>\n",
       "      <td>2025.000000</td>\n",
       "      <td>828.000000</td>\n",
       "      <td>8.000000</td>\n",
       "      <td>14.000000</td>\n",
       "      <td>56672.000000</td>\n",
       "      <td>599824.000000</td>\n",
       "      <td>231525.000000</td>\n",
       "    </tr>\n",
       "  </tbody>\n",
       "</table>\n",
       "</div>"
      ]
     },
     "execution_count": 307,
     "metadata": {},
     "output_type": "execute_result"
    }
   ],
   "execution_count": 307
  },
  {
   "metadata": {
    "ExecuteTime": {
     "end_time": "2025-08-16T20:00:42.936624Z",
     "start_time": "2025-08-16T20:00:42.927398Z"
    }
   },
   "cell_type": "code",
   "source": "procesador.analizar_nulos()",
   "id": "2720a606e2db3ff4",
   "outputs": [
    {
     "name": "stdout",
     "output_type": "stream",
     "text": [
      "\n",
      "==================================================\n",
      "ANÁLISIS DE VALORES NULOS Y VACÍOS\n",
      "==================================================\n",
      "\n",
      "Valores nulos por columna:\n",
      "--------------------------------------------------\n",
      "Codigo de Ruta                 0\n",
      "Descripcion de Ruta            0\n",
      "Mes                            0\n",
      "Año                            0\n",
      "Tipo de Equipo                 0\n",
      "Cantidad de viajes             8\n",
      "Cantidad de Locomotoras        8\n",
      "Cantidad de Vagones           66\n",
      "Uso mensual (h)                8\n",
      "Distancia recorrida (km)       8\n",
      "Consumo de combustible (L)     8\n",
      "dtype: int64\n",
      "\n",
      "\n",
      "Porcentaje de valores nulos por columna:\n",
      "--------------------------------------------------\n",
      "Codigo de Ruta                 0.00\n",
      "Descripcion de Ruta            0.00\n",
      "Mes                            0.00\n",
      "Año                            0.00\n",
      "Tipo de Equipo                 0.00\n",
      "Cantidad de viajes             2.96\n",
      "Cantidad de Locomotoras        2.96\n",
      "Cantidad de Vagones           24.44\n",
      "Uso mensual (h)                2.96\n",
      "Distancia recorrida (km)       2.96\n",
      "Consumo de combustible (L)     2.96\n",
      "dtype: float64\n",
      "\n",
      "==================================================\n"
     ]
    }
   ],
   "execution_count": 308
  },
  {
   "metadata": {
    "ExecuteTime": {
     "end_time": "2025-08-16T20:00:44.969761Z",
     "start_time": "2025-08-16T20:00:44.963421Z"
    }
   },
   "cell_type": "code",
   "source": [
    "procesador.rellenar_nulos()\n",
    "procesador.analizar_nulos()"
   ],
   "id": "8f7ff7a59bf99b8",
   "outputs": [
    {
     "name": "stdout",
     "output_type": "stream",
     "text": [
      "\n",
      "==================================================\n",
      "ANÁLISIS DE VALORES NULOS Y VACÍOS\n",
      "==================================================\n",
      "\n",
      "Valores nulos por columna:\n",
      "--------------------------------------------------\n",
      "Codigo de Ruta                0\n",
      "Descripcion de Ruta           0\n",
      "Mes                           0\n",
      "Año                           0\n",
      "Tipo de Equipo                0\n",
      "Cantidad de viajes            0\n",
      "Cantidad de Locomotoras       0\n",
      "Cantidad de Vagones           0\n",
      "Uso mensual (h)               0\n",
      "Distancia recorrida (km)      0\n",
      "Consumo de combustible (L)    0\n",
      "dtype: int64\n",
      "\n",
      "\n",
      "Porcentaje de valores nulos por columna:\n",
      "--------------------------------------------------\n",
      "Codigo de Ruta                0.0\n",
      "Descripcion de Ruta           0.0\n",
      "Mes                           0.0\n",
      "Año                           0.0\n",
      "Tipo de Equipo                0.0\n",
      "Cantidad de viajes            0.0\n",
      "Cantidad de Locomotoras       0.0\n",
      "Cantidad de Vagones           0.0\n",
      "Uso mensual (h)               0.0\n",
      "Distancia recorrida (km)      0.0\n",
      "Consumo de combustible (L)    0.0\n",
      "dtype: float64\n",
      "\n",
      "==================================================\n"
     ]
    }
   ],
   "execution_count": 309
  },
  {
   "metadata": {
    "ExecuteTime": {
     "end_time": "2025-08-16T20:00:46.443648Z",
     "start_time": "2025-08-16T20:00:46.437077Z"
    }
   },
   "cell_type": "code",
   "source": [
    "# Viajes por mes\n",
    "viajes_por_mes = df_locomotoras.groupby('Mes')['Cantidad de viajes'].sum()\n",
    "print(viajes_por_mes)"
   ],
   "id": "8e89539395d373f3",
   "outputs": [
    {
     "name": "stdout",
     "output_type": "stream",
     "text": [
      "Mes\n",
      "1     6499.0\n",
      "2     8894.0\n",
      "3     9038.0\n",
      "4     8250.0\n",
      "5     8671.0\n",
      "6     8770.0\n",
      "7     6318.0\n",
      "8     6131.0\n",
      "9     5921.0\n",
      "10    5821.0\n",
      "11    6199.0\n",
      "12    4343.0\n",
      "Name: Cantidad de viajes, dtype: float64\n"
     ]
    }
   ],
   "execution_count": 310
  },
  {
   "metadata": {
    "ExecuteTime": {
     "end_time": "2025-08-16T20:00:47.884058Z",
     "start_time": "2025-08-16T20:00:47.873324Z"
    }
   },
   "cell_type": "code",
   "source": [
    "# Ruta con mayor cantidad de viajes\n",
    "viajes_por_ruta = df_locomotoras.groupby('Descripcion de Ruta')['Cantidad de viajes'].sum()\n",
    "ruta_max_viajes = viajes_por_ruta.idxmax()\n",
    "cantidad_max_viajes = viajes_por_ruta.max()\n",
    "print(f\"Ruta con mayor cantidad de viajes: {ruta_max_viajes}\\nCon {cantidad_max_viajes:,.0f} viajes\")\n",
    "\n"
   ],
   "id": "7a21d25748c80c82",
   "outputs": [
    {
     "name": "stdout",
     "output_type": "stream",
     "text": [
      "Ruta con mayor cantidad de viajes: UNIVERSIDAD LATINA - HEREDIA\n",
      "Con 31,161 viajes\n"
     ]
    }
   ],
   "execution_count": 311
  },
  {
   "metadata": {
    "ExecuteTime": {
     "end_time": "2025-08-16T20:00:49.269322Z",
     "start_time": "2025-08-16T20:00:49.263407Z"
    }
   },
   "cell_type": "code",
   "source": [
    "# Mayor uso mensual en horas\n",
    "uso_por_mes = df_locomotoras.groupby('Mes')['Uso mensual (h)'].sum()\n",
    "mes_max_uso = uso_por_mes.idxmax()\n",
    "uso_max_mes = uso_por_mes.max()\n",
    "print(f\"Mes con mayor uso mensual en horas: {mes_max_uso}\\nCon {uso_max_mes:,.0f} horas\")\n"
   ],
   "id": "407692a12384279",
   "outputs": [
    {
     "name": "stdout",
     "output_type": "stream",
     "text": [
      "Mes con mayor uso mensual en horas: 5\n",
      "Con 260,685 horas\n"
     ]
    }
   ],
   "execution_count": 312
  },
  {
   "metadata": {
    "ExecuteTime": {
     "end_time": "2025-08-16T20:00:50.445706Z",
     "start_time": "2025-08-16T20:00:50.433527Z"
    }
   },
   "cell_type": "code",
   "source": [
    "# Mayor ruta con consumo de litros de gasolina\n",
    "consumo_por_ruta = df_locomotoras.groupby('Descripcion de Ruta')['Consumo de combustible (L)'].sum()\n",
    "ruta_max_consumo = consumo_por_ruta.idxmax()\n",
    "cantidad_max_consumo = consumo_por_ruta.max()\n",
    "print(f\"Ruta con mayor consumo de combustible: {ruta_max_consumo}\\nCon {cantidad_max_consumo:,.0f} litros\")\n"
   ],
   "id": "23344fa49b6965cb",
   "outputs": [
    {
     "name": "stdout",
     "output_type": "stream",
     "text": [
      "Ruta con mayor consumo de combustible: ESTACION DEL ATLANTICO - CARTAGO\n",
      "Con 1,974,287 litros\n"
     ]
    }
   ],
   "execution_count": 313
  },
  {
   "metadata": {
    "ExecuteTime": {
     "end_time": "2025-08-16T20:00:51.760792Z",
     "start_time": "2025-08-16T20:00:51.753152Z"
    }
   },
   "cell_type": "code",
   "source": [
    "# Año con mayor cantidad de viajes\n",
    "viajes_por_anio = df_locomotoras.groupby('Año')['Cantidad de viajes'].sum()\n",
    "ano_max_viajes = viajes_por_anio.idxmax()\n",
    "cantidad_max_viajes_ano = viajes_por_anio.max()\n",
    "print(f\"Año con mayor cantidad de viajes: {ano_max_viajes}\\nCon {cantidad_max_viajes_ano:,.0f} viajes\")\n"
   ],
   "id": "2ff9d020153207a0",
   "outputs": [
    {
     "name": "stdout",
     "output_type": "stream",
     "text": [
      "Año con mayor cantidad de viajes: 2023\n",
      "Con 24,526 viajes\n"
     ]
    }
   ],
   "execution_count": 314
  },
  {
   "metadata": {
    "ExecuteTime": {
     "end_time": "2025-08-16T20:00:53.211627Z",
     "start_time": "2025-08-16T20:00:53.203270Z"
    }
   },
   "cell_type": "code",
   "source": [
    "# Ruta con mayor cantidad de uso en horas\n",
    "uso_por_ruta = df_locomotoras.groupby('Descripcion de Ruta')['Uso mensual (h)'].sum()\n",
    "ruta_max_uso = uso_por_ruta.idxmax()\n",
    "cantidad_max_uso = uso_por_ruta.max()\n",
    "print(f\"Ruta con mayor uso mensual (horas): {ruta_max_uso}\\nCon {cantidad_max_uso:,.0f} horas\")\n"
   ],
   "id": "4a1b8bfcb90787eb",
   "outputs": [
    {
     "name": "stdout",
     "output_type": "stream",
     "text": [
      "Ruta con mayor uso mensual (horas): ESTACION DEL ATLANTICO - CARTAGO\n",
      "Con 807,723 horas\n"
     ]
    }
   ],
   "execution_count": 315
  },
  {
   "metadata": {},
   "cell_type": "code",
   "outputs": [],
   "execution_count": null,
   "source": "",
   "id": "d3b5e6adcf52e168"
  },
  {
   "metadata": {},
   "cell_type": "code",
   "outputs": [],
   "execution_count": null,
   "source": "",
   "id": "362a0706f484be12"
  }
 ],
 "metadata": {
  "kernelspec": {
   "display_name": "Python 3",
   "language": "python",
   "name": "python3"
  },
  "language_info": {
   "codemirror_mode": {
    "name": "ipython",
    "version": 2
   },
   "file_extension": ".py",
   "mimetype": "text/x-python",
   "name": "python",
   "nbconvert_exporter": "python",
   "pygments_lexer": "ipython2",
   "version": "2.7.6"
  }
 },
 "nbformat": 4,
 "nbformat_minor": 5
}
